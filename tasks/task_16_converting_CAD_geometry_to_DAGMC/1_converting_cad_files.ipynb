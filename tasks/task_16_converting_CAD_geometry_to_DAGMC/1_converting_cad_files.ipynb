{
 "cells": [
  {
   "cell_type": "markdown",
   "metadata": {},
   "source": [
    "# Converting CAD geometry to neutronics\n",
    "\n",
    "CAD geometry can be converted with cad-to-dagmc\n",
    "\n",
    "This makes DAGMC geometry which particle transport codes like OpenMC can understand and simulate particle transport through\n",
    "\n",
    "In this example we are going to convert some CAD to a neutronics model and simulate particles"
   ]
  },
  {
   "cell_type": "markdown",
   "metadata": {},
   "source": [
    "Read more about DAGMC geometry here\n",
    "https://svalinn.github.io/DAGMC/"
   ]
  },
  {
   "cell_type": "markdown",
   "metadata": {},
   "source": []
  }
 ],
 "metadata": {
  "language_info": {
   "name": "python"
  }
 },
 "nbformat": 4,
 "nbformat_minor": 2
}
