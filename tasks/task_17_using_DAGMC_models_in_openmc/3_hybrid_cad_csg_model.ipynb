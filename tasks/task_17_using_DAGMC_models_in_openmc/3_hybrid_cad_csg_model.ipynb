{
 "cells": [
  {
   "cell_type": "markdown",
   "metadata": {},
   "source": [
    "# Making a hybrid CAD CSG model\n",
    "\n",
    "can be useful for bioshields ..."
   ]
  }
 ],
 "metadata": {
  "language_info": {
   "name": "python"
  }
 },
 "nbformat": 4,
 "nbformat_minor": 2
}
