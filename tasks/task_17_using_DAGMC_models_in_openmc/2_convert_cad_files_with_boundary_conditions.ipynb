{
 "cells": [
  {
   "cell_type": "markdown",
   "metadata": {
    "vscode": {
     "languageId": "plaintext"
    }
   },
   "source": [
    "# Adding boundary conditions to a CAD model\n",
    "\n",
    "Sometimes when we convert the model it is necessary to also add in boundary conditions to the containing CSG geometry.\n",
    "\n",
    "For example if the CAD is a sector model of a reactor, say a 180 degree model of a tokamak then you may want to put a reflective surface on one side of the bounding geometry.\n",
    "\n"
   ]
  }
 ],
 "metadata": {
  "language_info": {
   "name": "python"
  }
 },
 "nbformat": 4,
 "nbformat_minor": 2
}
